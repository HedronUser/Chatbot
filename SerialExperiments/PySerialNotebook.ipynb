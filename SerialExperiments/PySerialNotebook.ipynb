{
 "cells": [
  {
   "cell_type": "code",
   "execution_count": 3,
   "metadata": {},
   "outputs": [],
   "source": [
    "import serial\n",
    "import json"
   ]
  },
  {
   "cell_type": "code",
   "execution_count": 9,
   "metadata": {},
   "outputs": [],
   "source": [
    "ser = serial.Serial('/dev/ttyACM2', 9600, timeout=1)\n",
    "#not sure if timeout & readline are appropriate to use together\n",
    "\n",
    "#need to catch disconnect exception and retry after it breaks?"
   ]
  },
  {
   "cell_type": "code",
   "execution_count": 145,
   "metadata": {},
   "outputs": [
    {
     "name": "stdout",
     "output_type": "stream",
     "text": [
      "556014\n"
     ]
    }
   ],
   "source": [
    "data = ser.readline().strip().decode('utf8')#reads, strips carriage returns, and decodes to utf8 \n",
    "j = json.loads(data)\n",
    "print(j[\"time\"])\n",
    "\n",
    "\n",
    "#clock to detect lag make sure to ignore interuptted serial data isn't all execuited very quickly?"
   ]
  }
 ],
 "metadata": {
  "kernelspec": {
   "display_name": "Python 3",
   "language": "python",
   "name": "python3"
  },
  "language_info": {
   "codemirror_mode": {
    "name": "ipython",
    "version": 3
   },
   "file_extension": ".py",
   "mimetype": "text/x-python",
   "name": "python",
   "nbconvert_exporter": "python",
   "pygments_lexer": "ipython3",
   "version": "3.5.2"
  }
 },
 "nbformat": 4,
 "nbformat_minor": 2
}
