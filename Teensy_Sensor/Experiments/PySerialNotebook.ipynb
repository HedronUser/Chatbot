{
 "cells": [
  {
   "cell_type": "code",
   "execution_count": 3,
   "metadata": {},
   "outputs": [],
   "source": [
    "import serial\n",
    "import json"
   ]
  },
  {
   "cell_type": "code",
   "execution_count": 9,
   "metadata": {},
   "outputs": [],
   "source": [
    "baudrate = 9600\n",
    "#baudrate = 115200\n",
    "ser = serial.Serial('/dev/ttyACM2', baudrate, timeout=1)\n",
    "#not sure if timeout & readline are appropriate to use together\n",
    "\n",
    "#need to catch disconnect exception and retry after it breaks?"
   ]
  },
  {
   "cell_type": "code",
   "execution_count": null,
   "metadata": {},
   "outputs": [],
   "source": [
    "data = ser.readline().strip().decode('utf8')#reads, strips carriage returns, and decodes to utf8 \n",
    "j = json.loads(data)\n",
    "print(j[\"channel_data\"])\n",
    "\n",
    "#clock to detect lag make sure to ignore interuptted serial data isn't all execuited very quickly?"
   ]
  },
  {
   "cell_type": "code",
   "execution_count": null,
   "metadata": {},
   "outputs": [],
   "source": [
    "import os\n",
    "\"ARDUINO_PATH\" in os.environ"
   ]
  },
  {
   "cell_type": "code",
   "execution_count": null,
   "metadata": {},
   "outputs": [],
   "source": []
  }
 ],
 "metadata": {
  "kernelspec": {
   "display_name": "Python 2",
   "language": "python",
   "name": "python2"
  },
  "language_info": {
   "codemirror_mode": {
    "name": "ipython",
    "version": 3
   },
   "file_extension": ".py",
   "mimetype": "text/x-python",
   "name": "python",
   "nbconvert_exporter": "python",
   "pygments_lexer": "ipython3",
   "version": "3.5.2"
  }
 },
 "nbformat": 4,
 "nbformat_minor": 2
}
